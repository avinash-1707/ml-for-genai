{
 "cells": [
  {
   "cell_type": "code",
   "execution_count": 1,
   "id": "fa1535ef",
   "metadata": {},
   "outputs": [],
   "source": [
    "import gensim\n",
    "from gensim.models import Word2Vec,KeyedVectors"
   ]
  },
  {
   "cell_type": "code",
   "execution_count": null,
   "id": "f338edbf",
   "metadata": {},
   "outputs": [],
   "source": [
    "import gensim.downloader as api\n",
    "wv = api.load('word2vec-google-news-300')\n",
    "\n",
    "vec_king = wv[\"king\"]\n",
    " ## I am not running this.  It downloads 1.5GB of data"
   ]
  },
  {
   "cell_type": "code",
   "execution_count": null,
   "id": "c35f39c0",
   "metadata": {},
   "outputs": [],
   "source": [
    "wv.similiarity('hockey','sports')\n",
    "wv[\"queen\"]\n",
    "wv.most_similiar('cricket')\n",
    "wv.most_similiar('happy')"
   ]
  }
 ],
 "metadata": {
  "kernelspec": {
   "display_name": "Python 3",
   "language": "python",
   "name": "python3"
  },
  "language_info": {
   "codemirror_mode": {
    "name": "ipython",
    "version": 3
   },
   "file_extension": ".py",
   "mimetype": "text/x-python",
   "name": "python",
   "nbconvert_exporter": "python",
   "pygments_lexer": "ipython3",
   "version": "3.12.0"
  }
 },
 "nbformat": 4,
 "nbformat_minor": 5
}
