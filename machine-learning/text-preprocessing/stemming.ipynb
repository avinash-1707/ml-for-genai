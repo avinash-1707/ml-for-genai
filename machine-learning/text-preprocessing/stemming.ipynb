{
 "cells": [
  {
   "cell_type": "code",
   "execution_count": 5,
   "id": "13384b7e",
   "metadata": {},
   "outputs": [],
   "source": [
    "from nltk.stem import PorterStemmer"
   ]
  },
  {
   "cell_type": "markdown",
   "id": "d05fb157",
   "metadata": {},
   "source": [
    "### Porter Stemmer"
   ]
  },
  {
   "cell_type": "code",
   "execution_count": 6,
   "id": "de1e4eb4",
   "metadata": {},
   "outputs": [
    {
     "data": {
      "text/plain": [
       "'catch'"
      ]
     },
     "execution_count": 6,
     "metadata": {},
     "output_type": "execute_result"
    }
   ],
   "source": [
    "stemmer = PorterStemmer()\n",
    "stemmer.stem(\"catches\")"
   ]
  },
  {
   "cell_type": "code",
   "execution_count": 8,
   "id": "7e35b64f",
   "metadata": {},
   "outputs": [
    {
     "name": "stdout",
     "output_type": "stream",
     "text": [
      "running-->run\n",
      "ran-->ran\n",
      "runs-->run\n",
      "extra-->extra\n",
      "supplies-->suppli\n",
      "tries-->tri\n",
      "trying-->tri\n"
     ]
    }
   ],
   "source": [
    "words = [\"running\",\"ran\",\"runs\",\"extra\",\"supplies\",\"tries\",\"trying\"]\n",
    "for word in words:\n",
    "    print(f\"{word}-->{stemmer.stem(word)}\")"
   ]
  },
  {
   "cell_type": "markdown",
   "id": "93f52561",
   "metadata": {},
   "source": [
    "### RegexpStemmer Class"
   ]
  },
  {
   "cell_type": "code",
   "execution_count": 9,
   "id": "d6cf8e2d",
   "metadata": {},
   "outputs": [],
   "source": [
    "from nltk.stem import RegexpStemmer"
   ]
  },
  {
   "cell_type": "code",
   "execution_count": 13,
   "id": "8f80a1d1",
   "metadata": {},
   "outputs": [],
   "source": [
    "reg_stemmer = RegexpStemmer(\"ing$|s$|e$|able$\",min=4)"
   ]
  },
  {
   "cell_type": "code",
   "execution_count": 14,
   "id": "1f448b90",
   "metadata": {},
   "outputs": [
    {
     "data": {
      "text/plain": [
       "'try'"
      ]
     },
     "execution_count": 14,
     "metadata": {},
     "output_type": "execute_result"
    }
   ],
   "source": [
    "reg_stemmer.stem(\"trying\")"
   ]
  },
  {
   "cell_type": "code",
   "execution_count": 15,
   "id": "9bc2758b",
   "metadata": {},
   "outputs": [
    {
     "data": {
      "text/plain": [
       "'Launch'"
      ]
     },
     "execution_count": 15,
     "metadata": {},
     "output_type": "execute_result"
    }
   ],
   "source": [
    "reg_stemmer.stem(\"Launchable\")"
   ]
  },
  {
   "cell_type": "markdown",
   "id": "fb3b9404",
   "metadata": {},
   "source": [
    "### Snowball Stemming"
   ]
  },
  {
   "cell_type": "code",
   "execution_count": 16,
   "id": "3411878f",
   "metadata": {},
   "outputs": [],
   "source": [
    "from nltk.stem import SnowballStemmer"
   ]
  },
  {
   "cell_type": "code",
   "execution_count": 18,
   "id": "773112e6",
   "metadata": {},
   "outputs": [],
   "source": [
    "stemmer = SnowballStemmer('english')"
   ]
  },
  {
   "cell_type": "code",
   "execution_count": 19,
   "id": "6c40c23b",
   "metadata": {},
   "outputs": [
    {
     "data": {
      "text/plain": [
       "'know'"
      ]
     },
     "execution_count": 19,
     "metadata": {},
     "output_type": "execute_result"
    }
   ],
   "source": [
    "stemmer.stem('knowingly')"
   ]
  },
  {
   "cell_type": "code",
   "execution_count": 20,
   "id": "9c48e0ec",
   "metadata": {},
   "outputs": [
    {
     "data": {
      "text/plain": [
       "'univers'"
      ]
     },
     "execution_count": 20,
     "metadata": {},
     "output_type": "execute_result"
    }
   ],
   "source": [
    "stemmer.stem('university')"
   ]
  },
  {
   "cell_type": "code",
   "execution_count": 21,
   "id": "f7ba6c77",
   "metadata": {},
   "outputs": [
    {
     "data": {
      "text/plain": [
       "'galact'"
      ]
     },
     "execution_count": 21,
     "metadata": {},
     "output_type": "execute_result"
    }
   ],
   "source": [
    "stemmer.stem(\"galactic\")"
   ]
  },
  {
   "cell_type": "code",
   "execution_count": null,
   "id": "8aece499",
   "metadata": {},
   "outputs": [],
   "source": []
  }
 ],
 "metadata": {
  "kernelspec": {
   "display_name": "Python 3",
   "language": "python",
   "name": "python3"
  },
  "language_info": {
   "codemirror_mode": {
    "name": "ipython",
    "version": 3
   },
   "file_extension": ".py",
   "mimetype": "text/x-python",
   "name": "python",
   "nbconvert_exporter": "python",
   "pygments_lexer": "ipython3",
   "version": "3.12.0"
  }
 },
 "nbformat": 4,
 "nbformat_minor": 5
}
