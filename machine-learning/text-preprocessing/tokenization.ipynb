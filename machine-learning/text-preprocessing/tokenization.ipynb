{
 "cells": [
  {
   "cell_type": "code",
   "execution_count": 1,
   "id": "08955132",
   "metadata": {},
   "outputs": [],
   "source": [
    "from nltk.tokenize import sent_tokenize"
   ]
  },
  {
   "cell_type": "code",
   "execution_count": 14,
   "id": "e90698d8",
   "metadata": {},
   "outputs": [],
   "source": [
    "corpus = \"\"\"Hello world, I am learning python's nltk library.\n",
    "I am excited to go further and learn GenAI now! Wish me luck.\n",
    "\"\"\""
   ]
  },
  {
   "cell_type": "code",
   "execution_count": 15,
   "id": "c016f1fa",
   "metadata": {},
   "outputs": [
    {
     "name": "stdout",
     "output_type": "stream",
     "text": [
      "Hello world, I am learning python's nltk library.\n",
      "I am excited to go further and learn GenAI now! Wish me luck.\n",
      "\n"
     ]
    }
   ],
   "source": [
    "print(corpus)"
   ]
  },
  {
   "cell_type": "code",
   "execution_count": 16,
   "id": "698e68ed",
   "metadata": {},
   "outputs": [
    {
     "name": "stderr",
     "output_type": "stream",
     "text": [
      "[nltk_data] Downloading package punkt_tab to C:\\Users\\ASUS\n",
      "[nltk_data]     Vivobook\\AppData\\Roaming\\nltk_data...\n",
      "[nltk_data]   Package punkt_tab is already up-to-date!\n"
     ]
    },
    {
     "data": {
      "text/plain": [
       "True"
      ]
     },
     "execution_count": 16,
     "metadata": {},
     "output_type": "execute_result"
    }
   ],
   "source": [
    "import nltk\n",
    "nltk.download('punkt_tab')"
   ]
  },
  {
   "cell_type": "markdown",
   "id": "8dbf89a2",
   "metadata": {},
   "source": [
    "Paragrah --> Sentences"
   ]
  },
  {
   "cell_type": "code",
   "execution_count": 17,
   "id": "16f65979",
   "metadata": {},
   "outputs": [],
   "source": [
    "documents = sent_tokenize(corpus)"
   ]
  },
  {
   "cell_type": "code",
   "execution_count": 18,
   "id": "5016c5e8",
   "metadata": {},
   "outputs": [
    {
     "name": "stdout",
     "output_type": "stream",
     "text": [
      "Hello world, I am learning python's nltk library.\n",
      "I am excited to go further and learn GenAI now!\n",
      "Wish me luck.\n"
     ]
    }
   ],
   "source": [
    "for sentence in documents:\n",
    "    print(sentence)"
   ]
  },
  {
   "cell_type": "markdown",
   "id": "10cacb98",
   "metadata": {},
   "source": [
    "Sentence --> Words"
   ]
  },
  {
   "cell_type": "code",
   "execution_count": 19,
   "id": "ed6b73fd",
   "metadata": {},
   "outputs": [],
   "source": [
    "from nltk.tokenize import word_tokenize"
   ]
  },
  {
   "cell_type": "code",
   "execution_count": 20,
   "id": "ee87993a",
   "metadata": {},
   "outputs": [
    {
     "data": {
      "text/plain": [
       "['Hello',\n",
       " 'world',\n",
       " ',',\n",
       " 'I',\n",
       " 'am',\n",
       " 'learning',\n",
       " 'python',\n",
       " \"'s\",\n",
       " 'nltk',\n",
       " 'library',\n",
       " '.',\n",
       " 'I',\n",
       " 'am',\n",
       " 'excited',\n",
       " 'to',\n",
       " 'go',\n",
       " 'further',\n",
       " 'and',\n",
       " 'learn',\n",
       " 'GenAI',\n",
       " 'now',\n",
       " '!',\n",
       " 'Wish',\n",
       " 'me',\n",
       " 'luck',\n",
       " '.']"
      ]
     },
     "execution_count": 20,
     "metadata": {},
     "output_type": "execute_result"
    }
   ],
   "source": [
    "word_tokenize(corpus)"
   ]
  },
  {
   "cell_type": "code",
   "execution_count": 21,
   "id": "d33d0cc9",
   "metadata": {},
   "outputs": [
    {
     "name": "stdout",
     "output_type": "stream",
     "text": [
      "['Hello', 'world', ',', 'I', 'am', 'learning', 'python', \"'s\", 'nltk', 'library', '.']\n",
      "['I', 'am', 'excited', 'to', 'go', 'further', 'and', 'learn', 'GenAI', 'now', '!']\n",
      "['Wish', 'me', 'luck', '.']\n"
     ]
    }
   ],
   "source": [
    "for sentence in documents:\n",
    "    print(word_tokenize(sentence))"
   ]
  },
  {
   "cell_type": "code",
   "execution_count": 22,
   "id": "f8719215",
   "metadata": {},
   "outputs": [],
   "source": [
    "from nltk.tokenize import wordpunct_tokenize"
   ]
  },
  {
   "cell_type": "code",
   "execution_count": 23,
   "id": "77487985",
   "metadata": {},
   "outputs": [
    {
     "name": "stdout",
     "output_type": "stream",
     "text": [
      "['Hello', 'world', ',', 'I', 'am', 'learning', 'python', \"'\", 's', 'nltk', 'library', '.']\n",
      "['I', 'am', 'excited', 'to', 'go', 'further', 'and', 'learn', 'GenAI', 'now', '!']\n",
      "['Wish', 'me', 'luck', '.']\n"
     ]
    }
   ],
   "source": [
    "for sentence in documents:\n",
    "    print(wordpunct_tokenize(sentence))"
   ]
  },
  {
   "cell_type": "code",
   "execution_count": 24,
   "id": "13d5f20f",
   "metadata": {},
   "outputs": [],
   "source": [
    "from nltk.tokenize import TreebankWordTokenizer"
   ]
  },
  {
   "cell_type": "code",
   "execution_count": 25,
   "id": "2ed6a53e",
   "metadata": {},
   "outputs": [
    {
     "data": {
      "text/plain": [
       "['Hello',\n",
       " 'world',\n",
       " ',',\n",
       " 'I',\n",
       " 'am',\n",
       " 'learning',\n",
       " 'python',\n",
       " \"'s\",\n",
       " 'nltk',\n",
       " 'library',\n",
       " '.']"
      ]
     },
     "execution_count": 25,
     "metadata": {},
     "output_type": "execute_result"
    }
   ],
   "source": [
    "tokenizer = TreebankWordTokenizer()\n",
    "tokenizer.tokenize(documents[0])"
   ]
  },
  {
   "cell_type": "code",
   "execution_count": null,
   "id": "efd141fa",
   "metadata": {},
   "outputs": [],
   "source": []
  }
 ],
 "metadata": {
  "kernelspec": {
   "display_name": "Python 3",
   "language": "python",
   "name": "python3"
  },
  "language_info": {
   "codemirror_mode": {
    "name": "ipython",
    "version": 3
   },
   "file_extension": ".py",
   "mimetype": "text/x-python",
   "name": "python",
   "nbconvert_exporter": "python",
   "pygments_lexer": "ipython3",
   "version": "3.12.0"
  }
 },
 "nbformat": 4,
 "nbformat_minor": 5
}
