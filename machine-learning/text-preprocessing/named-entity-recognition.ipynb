{
 "cells": [
  {
   "cell_type": "code",
   "execution_count": 1,
   "id": "6f456b20",
   "metadata": {},
   "outputs": [],
   "source": [
    "sentence = \"Elon Musk founded SpaceX in California in 2002.\""
   ]
  },
  {
   "cell_type": "code",
   "execution_count": 2,
   "id": "1fceebad",
   "metadata": {},
   "outputs": [],
   "source": [
    "import nltk\n",
    "from nltk import word_tokenize,ne_chunk,pos_tag"
   ]
  },
  {
   "cell_type": "code",
   "execution_count": 3,
   "id": "9e08bf4d",
   "metadata": {},
   "outputs": [],
   "source": [
    "tokens = word_tokenize(sentence)\n",
    "tagged_tokens = pos_tag(tokens)"
   ]
  },
  {
   "cell_type": "code",
   "execution_count": 9,
   "id": "1370aa04",
   "metadata": {},
   "outputs": [
    {
     "name": "stderr",
     "output_type": "stream",
     "text": [
      "[nltk_data] Downloading package maxent_ne_chunker_tab to C:\\Users\\ASUS\n",
      "[nltk_data]     Vivobook\\AppData\\Roaming\\nltk_data...\n",
      "[nltk_data]   Unzipping chunkers\\maxent_ne_chunker_tab.zip.\n",
      "[nltk_data] Downloading package words to C:\\Users\\ASUS\n",
      "[nltk_data]     Vivobook\\AppData\\Roaming\\nltk_data...\n",
      "[nltk_data]   Package words is already up-to-date!\n"
     ]
    },
    {
     "data": {
      "text/plain": [
       "True"
      ]
     },
     "execution_count": 9,
     "metadata": {},
     "output_type": "execute_result"
    }
   ],
   "source": [
    "nltk.download('maxent_ne_chunker_tab')\n",
    "nltk.download('words')"
   ]
  },
  {
   "cell_type": "code",
   "execution_count": 11,
   "id": "8dd29dcf",
   "metadata": {},
   "outputs": [],
   "source": [
    "ne_chunk(tagged_tokens).draw()"
   ]
  },
  {
   "cell_type": "code",
   "execution_count": null,
   "id": "5ffac084",
   "metadata": {},
   "outputs": [],
   "source": []
  }
 ],
 "metadata": {
  "kernelspec": {
   "display_name": "Python 3",
   "language": "python",
   "name": "python3"
  },
  "language_info": {
   "codemirror_mode": {
    "name": "ipython",
    "version": 3
   },
   "file_extension": ".py",
   "mimetype": "text/x-python",
   "name": "python",
   "nbconvert_exporter": "python",
   "pygments_lexer": "ipython3",
   "version": "3.12.0"
  }
 },
 "nbformat": 4,
 "nbformat_minor": 5
}
